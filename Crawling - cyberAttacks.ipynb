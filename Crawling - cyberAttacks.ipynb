{
 "cells": [
  {
   "cell_type": "code",
   "execution_count": 2,
   "id": "05f5c37d",
   "metadata": {},
   "outputs": [],
   "source": [
    "from bs4 import BeautifulSoup\n",
    "import os\n",
    "import pandas as pd\n",
    "import requests\n",
    "import html5lib\n",
    "import warnings\n",
    "import time\n",
    "warnings.filterwarnings(\"ignore\")"
   ]
  },
  {
   "cell_type": "code",
   "execution_count": null,
   "id": "79eeb92a",
   "metadata": {},
   "outputs": [],
   "source": [
    "l={}\n",
    "u=list()\n",
    "url= \"https://www.proxynova.com/proxy-server-list/country-ISO 3166-2:IL/\"\n",
    "respo = requests.get(url).text\n",
    "soup = BeautifulSoup(respo, \"html.parser\")\n",
    "allproxy = soup.find_all(\"tr\")\n",
    "for proxy in allproxy:\n",
    "    foo = proxy.find_all(\"td\")\n",
    "try: \n",
    "    l[\"ip\"]=foo[0].text.replace(\"\\n\",\"\").replace(\"document.write(\",\"\").replace(\")\",\"\").replace(\"\\'\",\"\").replace(\";\",\"\")\n",
    "except:\n",
    "    l[\"ip\"]=None\n",
    "try:\n",
    "    l[\"port\"]=foo[1].text.replace(\"\\n\",\"\").replace(\" \",\"\")\n",
    "except:\n",
    "    l[\"port\"]=None\n",
    "try:\n",
    "    l[\"country\"]=foo[5].text.replace(\"\\n\",\"\").replace(\" \",\"\")\n",
    "except:\n",
    "    l[\"country\"]=None\n",
    "if(l[\"port\"] is not None):\n",
    "    u.append(l)\n",
    "l={}\n",
    "print(u)"
   ]
  },
  {
   "cell_type": "code",
   "execution_count": 5,
   "id": "109c8feb",
   "metadata": {},
   "outputs": [],
   "source": [
    "#import os\n",
    "import selenium\n",
    "from selenium import webdriver\n",
    "import time\n",
    "from time import sleep\n",
    "from PIL import Image\n",
    "import io\n",
    "import requests\n",
    "from webdriver_manager.chrome import ChromeDriverManager\n",
    "from selenium.common.exceptions import ElementClickInterceptedException"
   ]
  },
  {
   "cell_type": "code",
   "execution_count": 17,
   "id": "9878bd3a",
   "metadata": {},
   "outputs": [
    {
     "name": "stdout",
     "output_type": "stream",
     "text": [
      "\n"
     ]
    },
    {
     "name": "stderr",
     "output_type": "stream",
     "text": [
      "[WDM] - ====== WebDriver manager ======\n",
      "[WDM] - Current google-chrome version is 102.0.5005\n",
      "[WDM] - Get LATEST chromedriver version for 102.0.5005 google-chrome\n",
      "[WDM] - Driver [C:\\Users\\Ron\\.wdm\\drivers\\chromedriver\\win32\\102.0.5005.61\\chromedriver.exe] found in cache\n"
     ]
    }
   ],
   "source": [
    "driver1 = webdriver.Chrome(ChromeDriverManager().install())"
   ]
  },
  {
   "cell_type": "code",
   "execution_count": 18,
   "id": "5da9a752",
   "metadata": {},
   "outputs": [
    {
     "name": "stdout",
     "output_type": "stream",
     "text": [
      "******* 0 ******\n",
      "Indonesia\n",
      "United States\n",
      "Retail OWASP - RCE/RFI Hacking Tool 24\n",
      "Philippines\n",
      "United States\n",
      "Telecom and ISPs OWASP - API Violation Browser Automation 44\n",
      "******* 1 ******\n",
      "Spain\n",
      "United States\n",
      "Healthcare OWASP - API Violation Hacking Tool 14\n",
      "United States\n",
      "United States\n",
      "Business OWASP - Path Traversal/LFI Bot 212\n",
      "******* 2 ******\n",
      "Hong Kong\n",
      "New Zealand\n",
      "Law & Government OWASP - XSS Bot 23\n",
      "Australia\n",
      "United States\n",
      "Automated Threat Bot 6\n"
     ]
    }
   ],
   "source": [
    "driver1.get(\"https://www.imperva.com/cyber-threat-attack-map/\")\n",
    "tble=driver1.find_elements_by_xpath('//*[@id=\"root\"]/div/div/div[2]/div[2]/div[1]/table/tbody')\n",
    "sleep(2)\n",
    "topattacks=list()\n",
    "i=1\n",
    "for i in range(3):\n",
    "    print(\"*******\",i,\"******\")\n",
    "    print(driver1.find_element_by_xpath('//*[@id=\"root\"]/div/div/div[2]/div[2]/div[1]/table/tbody/tr[1]').text)\n",
    "    sleep(6)\n",
    "    print(driver1.find_element_by_xpath('/html/body/div[1]/div/div[4]/div/div/div[2]/div[2]/div[1]/table/tbody/tr[2]').text)\n",
    "    sleep(6)\n",
    "#    a1=driver1.find_element_by_xpath('/html/body/div[1]/div/div[4]/div/div/div[2]/div[2]/div[1]/table/tbody/tr[1]')\n",
    "#    a2=driver1.find_element_by_xpath('/html/body/div[1]/div/div[4]/div/div/div[2]/div[2]/div[1]/table/tbody/tr[2]')\n",
    "#    a3=driver1.find_element_by_xpath('/html/body/div[1]/div/div[4]/div/div/div[2]/div[2]/div[1]/table/tbody/tr[3]')\n",
    "#    a4=driver1.find_element_by_xpath('/html/body/div[1]/div/div[4]/div/div/div[2]/div[2]/div[1]/table/tbody/tr[4]')\n",
    "#    a5=driver1.find_element_by_xpath('/html/body/div[1]/div/div[4]/div/div/div[2]/div[2]/div[1]/table/tbody/tr[5]')"
   ]
  },
  {
   "cell_type": "code",
   "execution_count": null,
   "id": "c1107eb9",
   "metadata": {},
   "outputs": [],
   "source": [
    "#class:is-active"
   ]
  },
  {
   "cell_type": "code",
   "execution_count": null,
   "id": "ca56758a",
   "metadata": {},
   "outputs": [],
   "source": []
  },
  {
   "cell_type": "code",
   "execution_count": null,
   "id": "53de74db",
   "metadata": {},
   "outputs": [],
   "source": []
  },
  {
   "cell_type": "code",
   "execution_count": null,
   "id": "3786dbc3",
   "metadata": {},
   "outputs": [],
   "source": []
  }
 ],
 "metadata": {
  "kernelspec": {
   "display_name": "Python 3 (ipykernel)",
   "language": "python",
   "name": "python3"
  },
  "language_info": {
   "codemirror_mode": {
    "name": "ipython",
    "version": 3
   },
   "file_extension": ".py",
   "mimetype": "text/x-python",
   "name": "python",
   "nbconvert_exporter": "python",
   "pygments_lexer": "ipython3",
   "version": "3.9.7"
  }
 },
 "nbformat": 4,
 "nbformat_minor": 5
}
