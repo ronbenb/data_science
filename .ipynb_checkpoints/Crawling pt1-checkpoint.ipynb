{
 "cells": [
  {
   "cell_type": "code",
   "execution_count": 1,
   "id": "0e8dec20",
   "metadata": {},
   "outputs": [],
   "source": [
    "from bs4 import BeautifulSoup\n",
    "import os\n",
    "import pandas as pd\n",
    "import requests\n",
    "import html5lib\n",
    "import warnings\n",
    "import time\n",
    "warnings.filterwarnings(\"ignore\")"
   ]
  },
  {
   "cell_type": "code",
   "execution_count": 2,
   "id": "c2405f21",
   "metadata": {},
   "outputs": [
    {
     "name": "stdout",
     "output_type": "stream",
     "text": [
      "[]\n"
     ]
    }
   ],
   "source": [
    "l={}\n",
    "u=list()\n",
    "url= \"https://www.proxynova.com/proxy-server-list/country-ISO 3166-2:IL/\"\n",
    "respo = requests.get(url).text\n",
    "soup = BeautifulSoup(respo, \"html.parser\")\n",
    "allproxy = soup.find_all(\"tr\")\n",
    "for proxy in allproxy:\n",
    "    foo = proxy.find_all(\"td\")\n",
    "try: \n",
    "    l[\"ip\"]=foo[0].text.replace(\"\\n\",\"\").replace(\"document.write(\",\"\").replace(\")\",\"\").replace(\"\\'\",\"\").replace(\";\",\"\")\n",
    "except:\n",
    "    l[\"ip\"]=None\n",
    "try:\n",
    "    l[\"port\"]=foo[1].text.replace(\"\\n\",\"\").replace(\" \",\"\")\n",
    "except:\n",
    "    l[\"port\"]=None\n",
    "try:\n",
    "    l[\"country\"]=foo[5].text.replace(\"\\n\",\"\").replace(\" \",\"\")\n",
    "except:\n",
    "    l[\"country\"]=None\n",
    "if(l[\"port\"] is not None):\n",
    "    u.append(l)\n",
    "l={}\n",
    "print(u)"
   ]
  },
  {
   "cell_type": "markdown",
   "id": "88ce715c",
   "metadata": {},
   "source": [
    "Get URL's:"
   ]
  },
  {
   "cell_type": "code",
   "execution_count": 4,
   "id": "3a441bbc",
   "metadata": {},
   "outputs": [
    {
     "name": "stdout",
     "output_type": "stream",
     "text": [
      "https://www.bbc.com/news/world-60525350\n",
      "https://www.bbc.com/news/coronavirus\n",
      "https://www.bbc.com/news/science-environment-56837908\n",
      "https://www.bbc.com/news/av/10462520\n",
      "https://www.bbc.com/news/world\n",
      "https://www.bbc.com/news/uk\n",
      "https://www.bbc.com/news/business\n",
      "https://www.bbc.com/news/technology\n",
      "https://www.bbc.com/news/science_and_environment\n",
      "https://www.bbc.com/news/stories\n",
      "https://www.bbc.com/news/entertainment_and_arts\n",
      "https://www.bbc.com/news/health\n",
      "https://www.bbc.com/news/world_radio_and_tv\n",
      "https://www.bbc.com/news/in_pictures\n",
      "https://www.bbc.com/news/reality_check\n",
      "https://www.bbc.com/news/newsbeat\n",
      "https://www.bbc.com/news/the_reporters\n"
     ]
    }
   ],
   "source": [
    "url=\"https://www.bbc.com/news\"\n",
    "user_agent = {'User-agent': 'Mozilla/5.0'}\n",
    "response2 = requests.get(url,headers=user_agent)\n",
    "name=list()\n",
    "urls=list()\n",
    "soup2 = BeautifulSoup(response2.content, \"html.parser\")\n",
    "tb2=soup2.find_all('li', attrs={\"class\":\"gs-o-list-ui__item--flush gel-long-primer gs-u-display-block gs-u-float-left nw-c-nav__wide-menuitem-container\"})\n",
    "for r in tb2:\n",
    "    urls.append(r.find('a').get('href'))\n",
    "    name.append(r.get_text().strip())\n",
    "#print(urls)\n",
    "\n",
    "#add url to bbc.com\n",
    "for row in urls:\n",
    "    new_url=\"https://www.bbc.com\"+row\n",
    "    #print(new_url)\n",
    "    "
   ]
  },
  {
   "cell_type": "code",
   "execution_count": 9,
   "id": "e0c19ff0",
   "metadata": {},
   "outputs": [],
   "source": [
    "sub_title=list()\n",
    "url1=\"https://www.bbc.com/news/world-60525350\"\n",
    "user_agent1 = {'User-agent': 'Mozilla/5.0'}\n",
    "response1 = requests.get(url,headers=user_agent1)\n",
    "soup1 = BeautifulSoup(response1.content, \"html.parser\")\n",
    "#tb1=soup1.find_all('div', attrs={\"class\":\"lx-stream-related-story\"})\n",
    "#for row in tb1:\n",
    "#    sub_title.append(row.get_text().strip())\n",
    "\n",
    "tb1=soup1.find_all('li', attrs={\"class\":\"lx-stream__post-container\"})\n",
    "for row in tb1:\n",
    "    sub_title.append(row.find('p').get_text())\n",
    "    print(sub_title)"
   ]
  },
  {
   "cell_type": "code",
   "execution_count": 3,
   "id": "40837747",
   "metadata": {},
   "outputs": [],
   "source": [
    "#import os\n",
    "import selenium\n",
    "from selenium import webdriver\n",
    "import time\n",
    "from time import sleep\n",
    "from PIL import Image\n",
    "import io\n",
    "import requests\n",
    "from webdriver_manager.chrome import ChromeDriverManager\n",
    "#from selenium.webdriver.support.ui import WebDriverWait\n",
    "from selenium.common.exceptions import ElementClickInterceptedException"
   ]
  },
  {
   "cell_type": "code",
   "execution_count": 62,
   "id": "01df4375",
   "metadata": {},
   "outputs": [
    {
     "name": "stdout",
     "output_type": "stream",
     "text": [
      "\n"
     ]
    },
    {
     "name": "stderr",
     "output_type": "stream",
     "text": [
      "[WDM] - ====== WebDriver manager ======\n",
      "[WDM] - Current google-chrome version is 102.0.5005\n",
      "[WDM] - Get LATEST chromedriver version for 102.0.5005 google-chrome\n",
      "[WDM] - Driver [C:\\Users\\Ron\\.wdm\\drivers\\chromedriver\\win32\\102.0.5005.61\\chromedriver.exe] found in cache\n"
     ]
    }
   ],
   "source": [
    "driver = webdriver.Chrome(ChromeDriverManager().install())"
   ]
  },
  {
   "cell_type": "markdown",
   "id": "64f97b82",
   "metadata": {},
   "source": [
    "From Rotter.net:"
   ]
  },
  {
   "cell_type": "code",
   "execution_count": 8,
   "id": "0e11fb25",
   "metadata": {},
   "outputs": [
    {
     "name": "stdout",
     "output_type": "stream",
     "text": [
      "Classes of each table:\n",
      "None\n",
      "None\n"
     ]
    }
   ],
   "source": [
    "web=\"https://rotter.net/news/news.php?nws=1\"\n",
    "user_agentt = {'User-agent': 'Mozilla/5.0'}\n",
    "responsee = requests.get(web,headers=user_agentt)\n",
    "soupp = BeautifulSoup(responsee.content, \"html.parser\")\n",
    "print('Classes of each table:')\n",
    "for table in soupp.find_all('center'):\n",
    "    print(table.get('table'))"
   ]
  },
  {
   "cell_type": "code",
   "execution_count": 12,
   "id": "93b4ae0e",
   "metadata": {},
   "outputs": [
    {
     "ename": "AttributeError",
     "evalue": "'NoneType' object has no attribute 'find_all'",
     "output_type": "error",
     "traceback": [
      "\u001b[1;31m---------------------------------------------------------------------------\u001b[0m",
      "\u001b[1;31mAttributeError\u001b[0m                            Traceback (most recent call last)",
      "\u001b[1;32m~\\AppData\\Local\\Temp/ipykernel_4440/3482957876.py\u001b[0m in \u001b[0;36m<module>\u001b[1;34m\u001b[0m\n\u001b[0;32m      7\u001b[0m \u001b[0mtb\u001b[0m \u001b[1;33m=\u001b[0m \u001b[0msoup\u001b[0m\u001b[1;33m.\u001b[0m\u001b[0mfind\u001b[0m\u001b[1;33m(\u001b[0m\u001b[1;34m'table'\u001b[0m\u001b[1;33m,\u001b[0m \u001b[0mdir\u001b[0m\u001b[1;33m=\u001b[0m\u001b[1;34m'rtl'\u001b[0m\u001b[1;33m)\u001b[0m\u001b[1;33m\u001b[0m\u001b[1;33m\u001b[0m\u001b[0m\n\u001b[0;32m      8\u001b[0m \u001b[0mtable_body\u001b[0m \u001b[1;33m=\u001b[0m \u001b[0mtb\u001b[0m\u001b[1;33m.\u001b[0m\u001b[0mfind\u001b[0m\u001b[1;33m(\u001b[0m\u001b[1;34m'tbody'\u001b[0m\u001b[1;33m)\u001b[0m\u001b[1;33m\u001b[0m\u001b[1;33m\u001b[0m\u001b[0m\n\u001b[1;32m----> 9\u001b[1;33m \u001b[0mrows\u001b[0m \u001b[1;33m=\u001b[0m \u001b[0mtable_body\u001b[0m\u001b[1;33m.\u001b[0m\u001b[0mfind_all\u001b[0m\u001b[1;33m(\u001b[0m\u001b[1;34m'tr'\u001b[0m\u001b[1;33m)\u001b[0m\u001b[1;33m\u001b[0m\u001b[1;33m\u001b[0m\u001b[0m\n\u001b[0m\u001b[0;32m     10\u001b[0m \u001b[1;32mfor\u001b[0m \u001b[0mrow\u001b[0m \u001b[1;32min\u001b[0m \u001b[0mrows\u001b[0m\u001b[1;33m:\u001b[0m\u001b[1;33m\u001b[0m\u001b[1;33m\u001b[0m\u001b[0m\n\u001b[0;32m     11\u001b[0m     \u001b[0mcols\u001b[0m \u001b[1;33m=\u001b[0m \u001b[0mrow\u001b[0m\u001b[1;33m.\u001b[0m\u001b[0mfind_all\u001b[0m\u001b[1;33m(\u001b[0m\u001b[1;34m'td'\u001b[0m\u001b[1;33m)\u001b[0m\u001b[1;33m\u001b[0m\u001b[1;33m\u001b[0m\u001b[0m\n",
      "\u001b[1;31mAttributeError\u001b[0m: 'NoneType' object has no attribute 'find_all'"
     ]
    }
   ],
   "source": [
    "#driver.get(\"https://rotter.net/news/news.php?nws=1\")\n",
    "url=\"https://rotter.net/news/news.php?nws=1\"\n",
    "user_agent = {'User-agent': 'Mozilla/5.0'}\n",
    "response = requests.get(url,headers=user_agent)\n",
    "soup = BeautifulSoup(response.content, \"html.parser\")\n",
    "data=[]\n",
    "tb = soup.find('table', dir='rtl')\n",
    "table_body = tb.find('tbody')\n",
    "rows = table_body.find_all('tr')\n",
    "for row in rows:\n",
    "    cols = row.find_all('td')\n",
    "    cols = [ele.text.strip() for ele in cols]\n",
    "    data.append([ele for ele in cols if ele])\n",
    "print(data)"
   ]
  },
  {
   "cell_type": "code",
   "execution_count": 19,
   "id": "f597f1ad",
   "metadata": {},
   "outputs": [
    {
     "name": "stdout",
     "output_type": "stream",
     "text": [
      "hello1ddd\n"
     ]
    }
   ],
   "source": [
    "#####FOR TESTS:\n",
    "i=1\n",
    "print(\"hello%dddd\" %(i))"
   ]
  },
  {
   "cell_type": "code",
   "execution_count": 63,
   "id": "4d0f4ade",
   "metadata": {},
   "outputs": [
    {
     "data": {
      "text/html": [
       "<div>\n",
       "<style scoped>\n",
       "    .dataframe tbody tr th:only-of-type {\n",
       "        vertical-align: middle;\n",
       "    }\n",
       "\n",
       "    .dataframe tbody tr th {\n",
       "        vertical-align: top;\n",
       "    }\n",
       "\n",
       "    .dataframe thead th {\n",
       "        text-align: right;\n",
       "    }\n",
       "</style>\n",
       "<table border=\"1\" class=\"dataframe\">\n",
       "  <thead>\n",
       "    <tr style=\"text-align: right;\">\n",
       "      <th></th>\n",
       "      <th>Time</th>\n",
       "      <th>Source</th>\n",
       "      <th>Content</th>\n",
       "    </tr>\n",
       "  </thead>\n",
       "  <tbody>\n",
       "    <tr>\n",
       "      <th>0</th>\n",
       "      <td>null</td>\n",
       "      <td>null</td>\n",
       "      <td>סקירת עיתונות / מבזקים וחדשות\\nמחפשים חופשה בז...</td>\n",
       "    </tr>\n",
       "    <tr>\n",
       "      <th>1</th>\n",
       "      <td>20:02 19/06</td>\n",
       "      <td>וואלה</td>\n",
       "      <td>בהמשך לאיומי הסתדרות המורים: הלימודים יחלו מחר...</td>\n",
       "    </tr>\n",
       "    <tr>\n",
       "      <th>2</th>\n",
       "      <td>20:00 19/06</td>\n",
       "      <td>רוטר.נט</td>\n",
       "      <td>אליפות העולם בשחייה בודפשט: מייד גורבנקו בגמר ...</td>\n",
       "    </tr>\n",
       "    <tr>\n",
       "      <th>3</th>\n",
       "      <td>20:00 19/06</td>\n",
       "      <td>ice</td>\n",
       "      <td>סיכום המסחר בבורסה: מקס סטוק מזנקת, תשובה מתרסק</td>\n",
       "    </tr>\n",
       "    <tr>\n",
       "      <th>4</th>\n",
       "      <td>20:00 19/06</td>\n",
       "      <td>ice</td>\n",
       "      <td>'הצורפים' משיקים אתר סחר חדש בהשקעה של כמיליון...</td>\n",
       "    </tr>\n",
       "    <tr>\n",
       "      <th>...</th>\n",
       "      <td>...</td>\n",
       "      <td>...</td>\n",
       "      <td>...</td>\n",
       "    </tr>\n",
       "    <tr>\n",
       "      <th>763</th>\n",
       "      <td>20:13 18/06</td>\n",
       "      <td>מעריב</td>\n",
       "      <td>ילד בן שמונה נפצע באורח בינוני מפגיעת אופנוע ב...</td>\n",
       "    </tr>\n",
       "    <tr>\n",
       "      <th>764</th>\n",
       "      <td>20:12 18/06</td>\n",
       "      <td>Ynet</td>\n",
       "      <td>מצוד כפול באיסטנבול: \"איראן הורתה לרצוח ישראלי...</td>\n",
       "    </tr>\n",
       "    <tr>\n",
       "      <th>765</th>\n",
       "      <td>20:11 18/06</td>\n",
       "      <td>ישראל היום</td>\n",
       "      <td>אליפות העולם בשחייה: אנסטסיה גורבנקו בחצי הגמר</td>\n",
       "    </tr>\n",
       "    <tr>\n",
       "      <th>766</th>\n",
       "      <td>20:10 18/06</td>\n",
       "      <td>Ynet</td>\n",
       "      <td>פעולות חילוץ בפרדס חנה: אב ובתו הקטנה נפלו לבא...</td>\n",
       "    </tr>\n",
       "    <tr>\n",
       "      <th>767</th>\n",
       "      <td>20:08 18/06</td>\n",
       "      <td>mako</td>\n",
       "      <td>פרדס חנה: חשש לחיי אב וביתו שנפלו לבאר עם פיר ...</td>\n",
       "    </tr>\n",
       "  </tbody>\n",
       "</table>\n",
       "<p>768 rows × 3 columns</p>\n",
       "</div>"
      ],
      "text/plain": [
       "            Time      Source  \\\n",
       "0           null        null   \n",
       "1    20:02 19/06       וואלה   \n",
       "2    20:00 19/06     רוטר.נט   \n",
       "3    20:00 19/06         ice   \n",
       "4    20:00 19/06         ice   \n",
       "..           ...         ...   \n",
       "763  20:13 18/06       מעריב   \n",
       "764  20:12 18/06        Ynet   \n",
       "765  20:11 18/06  ישראל היום   \n",
       "766  20:10 18/06        Ynet   \n",
       "767  20:08 18/06        mako   \n",
       "\n",
       "                                               Content  \n",
       "0    סקירת עיתונות / מבזקים וחדשות\\nמחפשים חופשה בז...  \n",
       "1    בהמשך לאיומי הסתדרות המורים: הלימודים יחלו מחר...  \n",
       "2    אליפות העולם בשחייה בודפשט: מייד גורבנקו בגמר ...  \n",
       "3      סיכום המסחר בבורסה: מקס סטוק מזנקת, תשובה מתרסק  \n",
       "4    'הצורפים' משיקים אתר סחר חדש בהשקעה של כמיליון...  \n",
       "..                                                 ...  \n",
       "763  ילד בן שמונה נפצע באורח בינוני מפגיעת אופנוע ב...  \n",
       "764  מצוד כפול באיסטנבול: \"איראן הורתה לרצוח ישראלי...  \n",
       "765     אליפות העולם בשחייה: אנסטסיה גורבנקו בחצי הגמר  \n",
       "766  פעולות חילוץ בפרדס חנה: אב ובתו הקטנה נפלו לבא...  \n",
       "767  פרדס חנה: חשש לחיי אב וביתו שנפלו לבאר עם פיר ...  \n",
       "\n",
       "[768 rows x 3 columns]"
      ]
     },
     "execution_count": 63,
     "metadata": {},
     "output_type": "execute_result"
    }
   ],
   "source": [
    "####### code works, need to split the table to cols ########\n",
    "txt1=list()\n",
    "source=list()\n",
    "time=list()\n",
    "i=2\n",
    "driver.get(\"https://rotter.net/news/news.php?nws=1\")\n",
    "#news=driver.find_elements_by_xpath('/html/body/center/table')\n",
    "#/html/body/center/table\n",
    "#/html/body/center/table/tbody/tr\n",
    "# for t in driver.find_elements_by_xpath('/html/body/center/table'):\n",
    "t = driver.find_element_by_xpath('/html/body/center/table')\n",
    "for tr in t.find_elements_by_xpath('./tbody/tr'):\n",
    "#     i+=1\n",
    "#     if i==20:\n",
    "#         break\n",
    "    tdList = tr.find_elements_by_tag_name(\"td\")\n",
    "    if (len(tdList)==1):\n",
    "        time.append(\"null\")\n",
    "        source.append(\"null\")\n",
    "        txt1.append(tdList[0].text)\n",
    "    elif len(tdList)==3:\n",
    "        time.append(tdList[0].text)\n",
    "        source.append(tdList[1].text)\n",
    "        txt1.append(tdList[2].text)\n",
    "#         sleep(1)\n",
    "df=pd.DataFrame({\"Time\":time, \"Source\":source, \"Content\":txt1})\n",
    "\n",
    "df.to_csv(\"./news.csv\")\n",
    "df\n",
    "#print(source)\n",
    "#print(txt1)\n",
    "#print(time)\n",
    "#print(\"Status: %d\" %(i))"
   ]
  },
  {
   "cell_type": "code",
   "execution_count": 64,
   "id": "6ea99e99",
   "metadata": {},
   "outputs": [
    {
     "data": {
      "text/html": [
       "<div>\n",
       "<style scoped>\n",
       "    .dataframe tbody tr th:only-of-type {\n",
       "        vertical-align: middle;\n",
       "    }\n",
       "\n",
       "    .dataframe tbody tr th {\n",
       "        vertical-align: top;\n",
       "    }\n",
       "\n",
       "    .dataframe thead th {\n",
       "        text-align: right;\n",
       "    }\n",
       "</style>\n",
       "<table border=\"1\" class=\"dataframe\">\n",
       "  <thead>\n",
       "    <tr style=\"text-align: right;\">\n",
       "      <th></th>\n",
       "      <th>Unnamed: 0</th>\n",
       "      <th>Time</th>\n",
       "      <th>Source</th>\n",
       "      <th>Content</th>\n",
       "    </tr>\n",
       "  </thead>\n",
       "  <tbody>\n",
       "    <tr>\n",
       "      <th>0</th>\n",
       "      <td>0</td>\n",
       "      <td>NaN</td>\n",
       "      <td>NaN</td>\n",
       "      <td>סקירת עיתונות / מבזקים וחדשות\\nמחפשים חופשה בז...</td>\n",
       "    </tr>\n",
       "    <tr>\n",
       "      <th>1</th>\n",
       "      <td>1</td>\n",
       "      <td>20:02 19/06</td>\n",
       "      <td>וואלה</td>\n",
       "      <td>בהמשך לאיומי הסתדרות המורים: הלימודים יחלו מחר...</td>\n",
       "    </tr>\n",
       "    <tr>\n",
       "      <th>2</th>\n",
       "      <td>2</td>\n",
       "      <td>20:00 19/06</td>\n",
       "      <td>רוטר.נט</td>\n",
       "      <td>אליפות העולם בשחייה בודפשט: מייד גורבנקו בגמר ...</td>\n",
       "    </tr>\n",
       "    <tr>\n",
       "      <th>3</th>\n",
       "      <td>3</td>\n",
       "      <td>20:00 19/06</td>\n",
       "      <td>ice</td>\n",
       "      <td>סיכום המסחר בבורסה: מקס סטוק מזנקת, תשובה מתרסק</td>\n",
       "    </tr>\n",
       "    <tr>\n",
       "      <th>4</th>\n",
       "      <td>4</td>\n",
       "      <td>20:00 19/06</td>\n",
       "      <td>ice</td>\n",
       "      <td>'הצורפים' משיקים אתר סחר חדש בהשקעה של כמיליון...</td>\n",
       "    </tr>\n",
       "    <tr>\n",
       "      <th>...</th>\n",
       "      <td>...</td>\n",
       "      <td>...</td>\n",
       "      <td>...</td>\n",
       "      <td>...</td>\n",
       "    </tr>\n",
       "    <tr>\n",
       "      <th>763</th>\n",
       "      <td>763</td>\n",
       "      <td>20:13 18/06</td>\n",
       "      <td>מעריב</td>\n",
       "      <td>ילד בן שמונה נפצע באורח בינוני מפגיעת אופנוע ב...</td>\n",
       "    </tr>\n",
       "    <tr>\n",
       "      <th>764</th>\n",
       "      <td>764</td>\n",
       "      <td>20:12 18/06</td>\n",
       "      <td>Ynet</td>\n",
       "      <td>מצוד כפול באיסטנבול: \"איראן הורתה לרצוח ישראלי...</td>\n",
       "    </tr>\n",
       "    <tr>\n",
       "      <th>765</th>\n",
       "      <td>765</td>\n",
       "      <td>20:11 18/06</td>\n",
       "      <td>ישראל היום</td>\n",
       "      <td>אליפות העולם בשחייה: אנסטסיה גורבנקו בחצי הגמר</td>\n",
       "    </tr>\n",
       "    <tr>\n",
       "      <th>766</th>\n",
       "      <td>766</td>\n",
       "      <td>20:10 18/06</td>\n",
       "      <td>Ynet</td>\n",
       "      <td>פעולות חילוץ בפרדס חנה: אב ובתו הקטנה נפלו לבא...</td>\n",
       "    </tr>\n",
       "    <tr>\n",
       "      <th>767</th>\n",
       "      <td>767</td>\n",
       "      <td>20:08 18/06</td>\n",
       "      <td>mako</td>\n",
       "      <td>פרדס חנה: חשש לחיי אב וביתו שנפלו לבאר עם פיר ...</td>\n",
       "    </tr>\n",
       "  </tbody>\n",
       "</table>\n",
       "<p>768 rows × 4 columns</p>\n",
       "</div>"
      ],
      "text/plain": [
       "     Unnamed: 0         Time      Source  \\\n",
       "0             0          NaN         NaN   \n",
       "1             1  20:02 19/06       וואלה   \n",
       "2             2  20:00 19/06     רוטר.נט   \n",
       "3             3  20:00 19/06         ice   \n",
       "4             4  20:00 19/06         ice   \n",
       "..          ...          ...         ...   \n",
       "763         763  20:13 18/06       מעריב   \n",
       "764         764  20:12 18/06        Ynet   \n",
       "765         765  20:11 18/06  ישראל היום   \n",
       "766         766  20:10 18/06        Ynet   \n",
       "767         767  20:08 18/06        mako   \n",
       "\n",
       "                                               Content  \n",
       "0    סקירת עיתונות / מבזקים וחדשות\\nמחפשים חופשה בז...  \n",
       "1    בהמשך לאיומי הסתדרות המורים: הלימודים יחלו מחר...  \n",
       "2    אליפות העולם בשחייה בודפשט: מייד גורבנקו בגמר ...  \n",
       "3      סיכום המסחר בבורסה: מקס סטוק מזנקת, תשובה מתרסק  \n",
       "4    'הצורפים' משיקים אתר סחר חדש בהשקעה של כמיליון...  \n",
       "..                                                 ...  \n",
       "763  ילד בן שמונה נפצע באורח בינוני מפגיעת אופנוע ב...  \n",
       "764  מצוד כפול באיסטנבול: \"איראן הורתה לרצוח ישראלי...  \n",
       "765     אליפות העולם בשחייה: אנסטסיה גורבנקו בחצי הגמר  \n",
       "766  פעולות חילוץ בפרדס חנה: אב ובתו הקטנה נפלו לבא...  \n",
       "767  פרדס חנה: חשש לחיי אב וביתו שנפלו לבאר עם פיר ...  \n",
       "\n",
       "[768 rows x 4 columns]"
      ]
     },
     "execution_count": 64,
     "metadata": {},
     "output_type": "execute_result"
    }
   ],
   "source": [
    "df1=pd.read_csv(\"./news.csv\")\n",
    "df1"
   ]
  },
  {
   "cell_type": "code",
   "execution_count": 24,
   "id": "b7a5af96",
   "metadata": {},
   "outputs": [
    {
     "ename": "NoSuchElementException",
     "evalue": "Message: no such element: Unable to locate element: {\"method\":\"css selector\",\"selector\":\".gs-u-mb+ gel-body-copy qa-post-body\"}\n  (Session info: chrome=102.0.5005.63)\nStacktrace:\nBacktrace:\n\tOrdinal0 [0x008ED953+2414931]\n\tOrdinal0 [0x0087F5E1+1963489]\n\tOrdinal0 [0x0076C6B8+837304]\n\tOrdinal0 [0x00799500+1021184]\n\tOrdinal0 [0x0079979B+1021851]\n\tOrdinal0 [0x0078FCF1+982257]\n\tOrdinal0 [0x007B44E4+1131748]\n\tOrdinal0 [0x0078FC74+982132]\n\tOrdinal0 [0x007B46B4+1132212]\n\tOrdinal0 [0x007C4812+1198098]\n\tOrdinal0 [0x007B42B6+1131190]\n\tOrdinal0 [0x0078E860+976992]\n\tOrdinal0 [0x0078F756+980822]\n\tGetHandleVerifier [0x00B5CC62+2510274]\n\tGetHandleVerifier [0x00B4F760+2455744]\n\tGetHandleVerifier [0x0097EABA+551962]\n\tGetHandleVerifier [0x0097D916+547446]\n\tOrdinal0 [0x00885F3B+1990459]\n\tOrdinal0 [0x0088A898+2009240]\n\tOrdinal0 [0x0088A985+2009477]\n\tOrdinal0 [0x00893AD1+2046673]\n\tBaseThreadInitThunk [0x767D6739+25]\n\tRtlGetFullPathName_UEx [0x77698FEF+1215]\n\tRtlGetFullPathName_UEx [0x77698FBD+1165]\n",
     "output_type": "error",
     "traceback": [
      "\u001b[1;31m---------------------------------------------------------------------------\u001b[0m",
      "\u001b[1;31mNoSuchElementException\u001b[0m                    Traceback (most recent call last)",
      "\u001b[1;32m~\\AppData\\Local\\Temp/ipykernel_11072/789725495.py\u001b[0m in \u001b[0;36m<module>\u001b[1;34m\u001b[0m\n\u001b[0;32m      3\u001b[0m \u001b[0marticles\u001b[0m\u001b[1;33m=\u001b[0m\u001b[0mdriver\u001b[0m\u001b[1;33m.\u001b[0m\u001b[0mfind_elements_by_tag_name\u001b[0m\u001b[1;33m(\u001b[0m\u001b[1;34m\"article\"\u001b[0m\u001b[1;33m)\u001b[0m\u001b[1;33m\u001b[0m\u001b[1;33m\u001b[0m\u001b[0m\n\u001b[0;32m      4\u001b[0m \u001b[1;32mfor\u001b[0m \u001b[0marticle\u001b[0m \u001b[1;32min\u001b[0m \u001b[0marticles\u001b[0m\u001b[1;33m:\u001b[0m\u001b[1;33m\u001b[0m\u001b[1;33m\u001b[0m\u001b[0m\n\u001b[1;32m----> 5\u001b[1;33m     \u001b[0mheader\u001b[0m \u001b[1;33m=\u001b[0m \u001b[0marticle\u001b[0m\u001b[1;33m.\u001b[0m\u001b[0mfind_element_by_class_name\u001b[0m\u001b[1;33m(\u001b[0m\u001b[1;34m\"gs-u-mb+ gel-body-copy qa-post-body\"\u001b[0m\u001b[1;33m)\u001b[0m\u001b[1;33m\u001b[0m\u001b[1;33m\u001b[0m\u001b[0m\n\u001b[0m\u001b[0;32m      6\u001b[0m     \u001b[0mprint\u001b[0m\u001b[1;33m(\u001b[0m\u001b[0mheader\u001b[0m\u001b[1;33m.\u001b[0m\u001b[0mtext\u001b[0m\u001b[1;33m)\u001b[0m\u001b[1;33m\u001b[0m\u001b[1;33m\u001b[0m\u001b[0m\n\u001b[0;32m      7\u001b[0m \u001b[1;31m#driver.quit()\u001b[0m\u001b[1;33m\u001b[0m\u001b[1;33m\u001b[0m\u001b[0m\n",
      "\u001b[1;32m~\\anaconda3\\lib\\site-packages\\selenium\\webdriver\\remote\\webelement.py\u001b[0m in \u001b[0;36mfind_element_by_class_name\u001b[1;34m(self, name)\u001b[0m\n\u001b[0;32m    471\u001b[0m                       \u001b[0mDeprecationWarning\u001b[0m\u001b[1;33m,\u001b[0m\u001b[1;33m\u001b[0m\u001b[1;33m\u001b[0m\u001b[0m\n\u001b[0;32m    472\u001b[0m                       stacklevel=2)\n\u001b[1;32m--> 473\u001b[1;33m         \u001b[1;32mreturn\u001b[0m \u001b[0mself\u001b[0m\u001b[1;33m.\u001b[0m\u001b[0mfind_element\u001b[0m\u001b[1;33m(\u001b[0m\u001b[0mby\u001b[0m\u001b[1;33m=\u001b[0m\u001b[0mBy\u001b[0m\u001b[1;33m.\u001b[0m\u001b[0mCLASS_NAME\u001b[0m\u001b[1;33m,\u001b[0m \u001b[0mvalue\u001b[0m\u001b[1;33m=\u001b[0m\u001b[0mname\u001b[0m\u001b[1;33m)\u001b[0m\u001b[1;33m\u001b[0m\u001b[1;33m\u001b[0m\u001b[0m\n\u001b[0m\u001b[0;32m    474\u001b[0m \u001b[1;33m\u001b[0m\u001b[0m\n\u001b[0;32m    475\u001b[0m     \u001b[1;32mdef\u001b[0m \u001b[0mfind_elements_by_class_name\u001b[0m\u001b[1;33m(\u001b[0m\u001b[0mself\u001b[0m\u001b[1;33m,\u001b[0m \u001b[0mname\u001b[0m\u001b[1;33m)\u001b[0m\u001b[1;33m:\u001b[0m\u001b[1;33m\u001b[0m\u001b[1;33m\u001b[0m\u001b[0m\n",
      "\u001b[1;32m~\\anaconda3\\lib\\site-packages\\selenium\\webdriver\\remote\\webelement.py\u001b[0m in \u001b[0;36mfind_element\u001b[1;34m(self, by, value)\u001b[0m\n\u001b[0;32m    761\u001b[0m             \u001b[0mvalue\u001b[0m \u001b[1;33m=\u001b[0m \u001b[1;34m'[name=\"%s\"]'\u001b[0m \u001b[1;33m%\u001b[0m \u001b[0mvalue\u001b[0m\u001b[1;33m\u001b[0m\u001b[1;33m\u001b[0m\u001b[0m\n\u001b[0;32m    762\u001b[0m \u001b[1;33m\u001b[0m\u001b[0m\n\u001b[1;32m--> 763\u001b[1;33m         return self._execute(Command.FIND_CHILD_ELEMENT,\n\u001b[0m\u001b[0;32m    764\u001b[0m                              {\"using\": by, \"value\": value})['value']\n\u001b[0;32m    765\u001b[0m \u001b[1;33m\u001b[0m\u001b[0m\n",
      "\u001b[1;32m~\\anaconda3\\lib\\site-packages\\selenium\\webdriver\\remote\\webelement.py\u001b[0m in \u001b[0;36m_execute\u001b[1;34m(self, command, params)\u001b[0m\n\u001b[0;32m    738\u001b[0m             \u001b[0mparams\u001b[0m \u001b[1;33m=\u001b[0m \u001b[1;33m{\u001b[0m\u001b[1;33m}\u001b[0m\u001b[1;33m\u001b[0m\u001b[1;33m\u001b[0m\u001b[0m\n\u001b[0;32m    739\u001b[0m         \u001b[0mparams\u001b[0m\u001b[1;33m[\u001b[0m\u001b[1;34m'id'\u001b[0m\u001b[1;33m]\u001b[0m \u001b[1;33m=\u001b[0m \u001b[0mself\u001b[0m\u001b[1;33m.\u001b[0m\u001b[0m_id\u001b[0m\u001b[1;33m\u001b[0m\u001b[1;33m\u001b[0m\u001b[0m\n\u001b[1;32m--> 740\u001b[1;33m         \u001b[1;32mreturn\u001b[0m \u001b[0mself\u001b[0m\u001b[1;33m.\u001b[0m\u001b[0m_parent\u001b[0m\u001b[1;33m.\u001b[0m\u001b[0mexecute\u001b[0m\u001b[1;33m(\u001b[0m\u001b[0mcommand\u001b[0m\u001b[1;33m,\u001b[0m \u001b[0mparams\u001b[0m\u001b[1;33m)\u001b[0m\u001b[1;33m\u001b[0m\u001b[1;33m\u001b[0m\u001b[0m\n\u001b[0m\u001b[0;32m    741\u001b[0m \u001b[1;33m\u001b[0m\u001b[0m\n\u001b[0;32m    742\u001b[0m     \u001b[1;32mdef\u001b[0m \u001b[0mfind_element\u001b[0m\u001b[1;33m(\u001b[0m\u001b[0mself\u001b[0m\u001b[1;33m,\u001b[0m \u001b[0mby\u001b[0m\u001b[1;33m=\u001b[0m\u001b[0mBy\u001b[0m\u001b[1;33m.\u001b[0m\u001b[0mID\u001b[0m\u001b[1;33m,\u001b[0m \u001b[0mvalue\u001b[0m\u001b[1;33m=\u001b[0m\u001b[1;32mNone\u001b[0m\u001b[1;33m)\u001b[0m\u001b[1;33m:\u001b[0m\u001b[1;33m\u001b[0m\u001b[1;33m\u001b[0m\u001b[0m\n",
      "\u001b[1;32m~\\anaconda3\\lib\\site-packages\\selenium\\webdriver\\remote\\webdriver.py\u001b[0m in \u001b[0;36mexecute\u001b[1;34m(self, driver_command, params)\u001b[0m\n\u001b[0;32m    428\u001b[0m         \u001b[0mresponse\u001b[0m \u001b[1;33m=\u001b[0m \u001b[0mself\u001b[0m\u001b[1;33m.\u001b[0m\u001b[0mcommand_executor\u001b[0m\u001b[1;33m.\u001b[0m\u001b[0mexecute\u001b[0m\u001b[1;33m(\u001b[0m\u001b[0mdriver_command\u001b[0m\u001b[1;33m,\u001b[0m \u001b[0mparams\u001b[0m\u001b[1;33m)\u001b[0m\u001b[1;33m\u001b[0m\u001b[1;33m\u001b[0m\u001b[0m\n\u001b[0;32m    429\u001b[0m         \u001b[1;32mif\u001b[0m \u001b[0mresponse\u001b[0m\u001b[1;33m:\u001b[0m\u001b[1;33m\u001b[0m\u001b[1;33m\u001b[0m\u001b[0m\n\u001b[1;32m--> 430\u001b[1;33m             \u001b[0mself\u001b[0m\u001b[1;33m.\u001b[0m\u001b[0merror_handler\u001b[0m\u001b[1;33m.\u001b[0m\u001b[0mcheck_response\u001b[0m\u001b[1;33m(\u001b[0m\u001b[0mresponse\u001b[0m\u001b[1;33m)\u001b[0m\u001b[1;33m\u001b[0m\u001b[1;33m\u001b[0m\u001b[0m\n\u001b[0m\u001b[0;32m    431\u001b[0m             response['value'] = self._unwrap_value(\n\u001b[0;32m    432\u001b[0m                 response.get('value', None))\n",
      "\u001b[1;32m~\\anaconda3\\lib\\site-packages\\selenium\\webdriver\\remote\\errorhandler.py\u001b[0m in \u001b[0;36mcheck_response\u001b[1;34m(self, response)\u001b[0m\n\u001b[0;32m    245\u001b[0m                 \u001b[0malert_text\u001b[0m \u001b[1;33m=\u001b[0m \u001b[0mvalue\u001b[0m\u001b[1;33m[\u001b[0m\u001b[1;34m'alert'\u001b[0m\u001b[1;33m]\u001b[0m\u001b[1;33m.\u001b[0m\u001b[0mget\u001b[0m\u001b[1;33m(\u001b[0m\u001b[1;34m'text'\u001b[0m\u001b[1;33m)\u001b[0m\u001b[1;33m\u001b[0m\u001b[1;33m\u001b[0m\u001b[0m\n\u001b[0;32m    246\u001b[0m             \u001b[1;32mraise\u001b[0m \u001b[0mexception_class\u001b[0m\u001b[1;33m(\u001b[0m\u001b[0mmessage\u001b[0m\u001b[1;33m,\u001b[0m \u001b[0mscreen\u001b[0m\u001b[1;33m,\u001b[0m \u001b[0mstacktrace\u001b[0m\u001b[1;33m,\u001b[0m \u001b[0malert_text\u001b[0m\u001b[1;33m)\u001b[0m  \u001b[1;31m# type: ignore[call-arg]  # mypy is not smart enough here\u001b[0m\u001b[1;33m\u001b[0m\u001b[1;33m\u001b[0m\u001b[0m\n\u001b[1;32m--> 247\u001b[1;33m         \u001b[1;32mraise\u001b[0m \u001b[0mexception_class\u001b[0m\u001b[1;33m(\u001b[0m\u001b[0mmessage\u001b[0m\u001b[1;33m,\u001b[0m \u001b[0mscreen\u001b[0m\u001b[1;33m,\u001b[0m \u001b[0mstacktrace\u001b[0m\u001b[1;33m)\u001b[0m\u001b[1;33m\u001b[0m\u001b[1;33m\u001b[0m\u001b[0m\n\u001b[0m\u001b[0;32m    248\u001b[0m \u001b[1;33m\u001b[0m\u001b[0m\n\u001b[0;32m    249\u001b[0m     \u001b[1;32mdef\u001b[0m \u001b[0m_value_or_default\u001b[0m\u001b[1;33m(\u001b[0m\u001b[0mself\u001b[0m\u001b[1;33m,\u001b[0m \u001b[0mobj\u001b[0m\u001b[1;33m:\u001b[0m \u001b[0mMapping\u001b[0m\u001b[1;33m[\u001b[0m\u001b[0m_KT\u001b[0m\u001b[1;33m,\u001b[0m \u001b[0m_VT\u001b[0m\u001b[1;33m]\u001b[0m\u001b[1;33m,\u001b[0m \u001b[0mkey\u001b[0m\u001b[1;33m:\u001b[0m \u001b[0m_KT\u001b[0m\u001b[1;33m,\u001b[0m \u001b[0mdefault\u001b[0m\u001b[1;33m:\u001b[0m \u001b[0m_VT\u001b[0m\u001b[1;33m)\u001b[0m \u001b[1;33m->\u001b[0m \u001b[0m_VT\u001b[0m\u001b[1;33m:\u001b[0m\u001b[1;33m\u001b[0m\u001b[1;33m\u001b[0m\u001b[0m\n",
      "\u001b[1;31mNoSuchElementException\u001b[0m: Message: no such element: Unable to locate element: {\"method\":\"css selector\",\"selector\":\".gs-u-mb+ gel-body-copy qa-post-body\"}\n  (Session info: chrome=102.0.5005.63)\nStacktrace:\nBacktrace:\n\tOrdinal0 [0x008ED953+2414931]\n\tOrdinal0 [0x0087F5E1+1963489]\n\tOrdinal0 [0x0076C6B8+837304]\n\tOrdinal0 [0x00799500+1021184]\n\tOrdinal0 [0x0079979B+1021851]\n\tOrdinal0 [0x0078FCF1+982257]\n\tOrdinal0 [0x007B44E4+1131748]\n\tOrdinal0 [0x0078FC74+982132]\n\tOrdinal0 [0x007B46B4+1132212]\n\tOrdinal0 [0x007C4812+1198098]\n\tOrdinal0 [0x007B42B6+1131190]\n\tOrdinal0 [0x0078E860+976992]\n\tOrdinal0 [0x0078F756+980822]\n\tGetHandleVerifier [0x00B5CC62+2510274]\n\tGetHandleVerifier [0x00B4F760+2455744]\n\tGetHandleVerifier [0x0097EABA+551962]\n\tGetHandleVerifier [0x0097D916+547446]\n\tOrdinal0 [0x00885F3B+1990459]\n\tOrdinal0 [0x0088A898+2009240]\n\tOrdinal0 [0x0088A985+2009477]\n\tOrdinal0 [0x00893AD1+2046673]\n\tBaseThreadInitThunk [0x767D6739+25]\n\tRtlGetFullPathName_UEx [0x77698FEF+1215]\n\tRtlGetFullPathName_UEx [0x77698FBD+1165]\n"
     ]
    }
   ],
   "source": [
    "search_url=\"https://www.bbc.com/news/world-60525350\"\n",
    "driver.get(\"https://www.bbc.com/news/world-60525350\")\n",
    "articles=driver.find_elements_by_tag_name(\"article\")\n",
    "for article in articles:\n",
    "    header = article.find_element_by_class_name(\"gs-u-mb+ gel-body-copy qa-post-body\")\n",
    "    print(header.text)\n",
    "#driver.quit()\n",
    "#next_page=driver.find_element_by_class_name(\"lx-pagination__btn gs-u-mr+ qa-pagination-next-page lx-pagination__btn--active\")\n",
    "#next_page.click()"
   ]
  },
  {
   "cell_type": "code",
   "execution_count": null,
   "id": "f4c43057",
   "metadata": {},
   "outputs": [],
   "source": []
  }
 ],
 "metadata": {
  "kernelspec": {
   "display_name": "Python 3 (ipykernel)",
   "language": "python",
   "name": "python3"
  },
  "language_info": {
   "codemirror_mode": {
    "name": "ipython",
    "version": 3
   },
   "file_extension": ".py",
   "mimetype": "text/x-python",
   "name": "python",
   "nbconvert_exporter": "python",
   "pygments_lexer": "ipython3",
   "version": "3.9.7"
  }
 },
 "nbformat": 4,
 "nbformat_minor": 5
}
